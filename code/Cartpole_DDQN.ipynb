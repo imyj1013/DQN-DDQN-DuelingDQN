{
 "cells": [
  {
   "cell_type": "markdown",
   "metadata": {},
   "source": [
    "## 1. Cartpole 강화학습 준비"
   ]
  },
  {
   "cell_type": "code",
   "execution_count": 24,
   "metadata": {
    "ExecuteTime": {
     "end_time": "2024-03-08T05:01:55.164632100Z",
     "start_time": "2024-03-08T05:01:55.154632100Z"
    }
   },
   "outputs": [],
   "source": [
    "import numpy as np\n",
    "import matplotlib.pyplot as plt\n",
    "%matplotlib inline\n",
    "import gym"
   ]
  },
  {
   "cell_type": "markdown",
   "metadata": {},
   "source": [
    "### 1.1 Cartpole 시연함수"
   ]
  },
  {
   "cell_type": "code",
   "execution_count": 25,
   "metadata": {
    "ExecuteTime": {
     "end_time": "2024-03-08T05:01:55.722211900Z",
     "start_time": "2024-03-08T05:01:55.709446400Z"
    }
   },
   "outputs": [],
   "source": [
    "from JSAnimation.IPython_display import display_animation\n",
    "from matplotlib import animation\n",
    "from IPython.display import display\n",
    "\n",
    "\n",
    "def display_frames_as_gif(frames):\n",
    "    plt.figure(figsize=(frames[0].shape[1] / 72.0, frames[0].shape[0] / 72.0),\n",
    "               dpi=72)   # 화면크기, 해상도 설정\n",
    "    patch = plt.imshow(frames[0])   # 첫번째 프레임을 화면에 표시\n",
    "    plt.axis('off')   # 축 표시 안함\n",
    "\n",
    "    def animate(i):\n",
    "        patch.set_data(frames[i])   # i번째 프레임 업데이트\n",
    "\n",
    "    anim = animation.FuncAnimation(plt.gcf(), animate, frames=len(frames),\n",
    "                                   interval=50)   # 애니메이션 생성\n",
    "\n",
    "    anim.save('Cartpole_DDQN.gif')  # 시연영상을 저장\n",
    "    display(display_animation(anim, default_mode='loop'))"
   ]
  },
  {
   "cell_type": "markdown",
   "metadata": {},
   "source": [
    "### 1.2 Constant 정의"
   ]
  },
  {
   "cell_type": "code",
   "execution_count": 26,
   "metadata": {
    "ExecuteTime": {
     "end_time": "2024-03-08T05:01:55.864480500Z",
     "start_time": "2024-03-08T05:01:55.797165300Z"
    }
   },
   "outputs": [],
   "source": [
    "#name tuple을 사용하여 Transition 정의\n",
    "from collections import namedtuple\n",
    "\n",
    "Transition = namedtuple(\n",
    "    'Transition', ('state', 'action', 'next_state', 'reward'))"
   ]
  },
  {
   "cell_type": "code",
   "execution_count": 27,
   "metadata": {
    "ExecuteTime": {
     "end_time": "2024-03-08T05:01:55.906577500Z",
     "start_time": "2024-03-08T05:01:55.871128800Z"
    }
   },
   "outputs": [],
   "source": [
    "# 상수 정의\n",
    "ENV = 'CartPole-v0'   # task\n",
    "GAMMA = 0.99   # discount factor\n",
    "MAX_STEPS = 200    # 1에피소드 당 최대 단계 수\n",
    "NUM_EPISODES = 500    # 최대 에피소드 수"
   ]
  },
  {
   "cell_type": "markdown",
   "metadata": {},
   "source": [
    "## 2. ReplayMemory"
   ]
  },
  {
   "cell_type": "code",
   "execution_count": 28,
   "metadata": {
    "ExecuteTime": {
     "end_time": "2024-03-08T05:01:56.035112900Z",
     "start_time": "2024-03-08T05:01:55.960227900Z"
    }
   },
   "outputs": [],
   "source": [
    "class ReplayMemory:\n",
    "\n",
    "    def __init__(self, CAPACITY):\n",
    "        self.capacity = CAPACITY   # 메모리의 최대 저장 건수\n",
    "        self.memory = []   # 실제 transition을 저장할 변수\n",
    "        self.index = 0   # 저장 위치를 가리킬 인덱스 변수\n",
    "\n",
    "    def push(self, state, action, state_next, reward):\n",
    "        \n",
    "        # 메모리 공간 확인\n",
    "        if len(self.memory) < self.capacity:\n",
    "            self.memory.append(None)  \n",
    "\n",
    "        self.memory[self.index] = Transition(state, action, state_next, reward)  # 새로운 transition을 메모리에 추가\n",
    "        \n",
    "        self.index = (self.index + 1) % self.capacity     # 인덱스 설정\n",
    "\n",
    "    def sample(self, batch_size):\n",
    "        return random.sample(self.memory, batch_size)   # 메모리에서 랜덤하게 배치 추출\n",
    "\n",
    "    def __len__(self):\n",
    "        return len(self.memory)   # 메모리 크기 반환"
   ]
  },
  {
   "cell_type": "code",
   "execution_count": 29,
   "metadata": {
    "ExecuteTime": {
     "end_time": "2024-03-08T05:01:56.055505200Z",
     "start_time": "2024-03-08T05:01:56.014170800Z"
    }
   },
   "outputs": [],
   "source": [
    "#!pip install --upgrade pip"
   ]
  },
  {
   "cell_type": "code",
   "execution_count": 30,
   "metadata": {
    "ExecuteTime": {
     "end_time": "2024-03-08T05:01:56.115152800Z",
     "start_time": "2024-03-08T05:01:56.061336100Z"
    }
   },
   "outputs": [],
   "source": [
    "#!pip install torch"
   ]
  },
  {
   "cell_type": "markdown",
   "metadata": {},
   "source": [
    "## 3. Cartpole DDQN 설계"
   ]
  },
  {
   "cell_type": "code",
   "execution_count": 31,
   "metadata": {
    "ExecuteTime": {
     "end_time": "2024-03-08T05:01:56.256819400Z",
     "start_time": "2024-03-08T05:01:56.241507300Z"
    }
   },
   "outputs": [],
   "source": [
    "import torch.nn as nn\n",
    "import torch.nn.functional as F\n",
    "\n",
    "\n",
    "class Net(nn.Module):  # 신경망 구조 정의\n",
    "\n",
    "    def __init__(self, n_in, n_mid, n_out):\n",
    "        super(Net, self).__init__()\n",
    "        self.fc1 = nn.Linear(n_in, n_mid)  # 입력층에서 은닉층으로 선형 변환 수행\n",
    "        self.fc2 = nn.Linear(n_mid, n_mid)   # 은닉층에서 은닉층으로 선형 변환 수행\n",
    "        self.fc3 = nn.Linear(n_mid, n_out)    # 은닉층에서 출력층으로 선형 변환 수행\n",
    "\n",
    "    def forward(self, x):   # 순전파 함수\n",
    "        # 활성화 함수로 비선형성 도입\n",
    "        h1 = F.relu(self.fc1(x))\n",
    "        h2 = F.relu(self.fc2(h1))\n",
    "        \n",
    "        output = self.fc3(h2)  # 출력층 연산\n",
    "        return output"
   ]
  },
  {
   "cell_type": "code",
   "execution_count": 32,
   "metadata": {
    "ExecuteTime": {
     "end_time": "2024-03-08T05:01:56.555862500Z",
     "start_time": "2024-03-08T05:01:56.526961400Z"
    }
   },
   "outputs": [],
   "source": [
    "import random\n",
    "import torch\n",
    "from torch import nn\n",
    "from torch import optim\n",
    "import torch.nn.functional as F\n",
    "\n",
    "BATCH_SIZE = 32    # 배치 크기\n",
    "CAPACITY = 10000    # 메모리 용량\n",
    "\n",
    "\n",
    "class Brain:\n",
    "    def __init__(self, num_states, num_actions):\n",
    "        self.num_actions = num_actions  \n",
    "\n",
    "        # 리플레이 메모리 설정\n",
    "        self.memory = ReplayMemory(CAPACITY)\n",
    "\n",
    "        # 신경망 초기화\n",
    "        n_in, n_mid, n_out = num_states, 32, num_actions\n",
    "        self.main_q_network = Net(n_in, n_mid, n_out)   # 메인 신경망\n",
    "        self.target_q_network = Net(n_in, n_mid, n_out)   # 타겟 신경망\n",
    "        print(self.main_q_network)    # 신경망 구조 출력\n",
    "\n",
    "        # 옵티마이저 초기화\n",
    "        self.optimizer = optim.Adam(\n",
    "            self.main_q_network.parameters(), lr=0.0001)\n",
    "\n",
    "    def replay(self):\n",
    "\n",
    "        if len(self.memory) < BATCH_SIZE:\n",
    "            return\n",
    "        self.batch, self.state_batch, self.action_batch, self.reward_batch, self.non_final_next_states = self.make_minibatch()  # 미니배치 생성\n",
    "        self.expected_state_action_values = self.get_expected_state_action_values()    # 예측되는 Q-value 계산\n",
    "        self.update_main_q_network()\n",
    "\n",
    "    def decide_action(self, state, episode):\n",
    "        epsilon = 0.5 * (1 / (episode + 1))\n",
    "\n",
    "        # 입실론-그리디 전략으로 action 선택\n",
    "        if epsilon <= np.random.uniform(0, 1):\n",
    "            self.main_q_network.eval()    # evaluation mode 로 전환\n",
    "            with torch.no_grad():\n",
    "                action = self.main_q_network(state).max(1)[1].view(1, 1)\n",
    "\n",
    "        else:\n",
    "            action = torch.LongTensor(\n",
    "                [[random.randrange(self.num_actions)]])    # 무작위 action 선택\n",
    "        return action\n",
    "\n",
    "    def make_minibatch(self):\n",
    "        transitions = self.memory.sample(BATCH_SIZE)   # 리플레이 버퍼에서 샘플링\n",
    "\n",
    "        batch = Transition(*zip(*transitions))\n",
    "\n",
    "        state_batch = torch.cat(batch.state)  # state의 텐서\n",
    "        action_batch = torch.cat(batch.action)  # action의 텐서\n",
    "        reward_batch = torch.cat(batch.reward)  # reward의 텐서\n",
    "        non_final_next_states = torch.cat([s for s in batch.next_state\n",
    "                                           if s is not None])   # none을 제외한 다음 state의 텐서\n",
    "\n",
    "        return batch, state_batch, action_batch, reward_batch, non_final_next_states\n",
    "\n",
    "    def get_expected_state_action_values(self):\n",
    "\n",
    "        # evaluation mode 로 전환\n",
    "        self.main_q_network.eval()\n",
    "        self.target_q_network.eval()\n",
    "\n",
    "        # 현재 state의 Q-value 계산\n",
    "        self.state_action_values = self.main_q_network(\n",
    "            self.state_batch).gather(1, self.action_batch)\n",
    "\n",
    "        non_final_mask = torch.ByteTensor(tuple(map(lambda s: s is not None,\n",
    "                                                    self.batch.next_state)))\n",
    "        next_state_values = torch.zeros(BATCH_SIZE)  # 다음 state value의 텐서 초기화\n",
    "\n",
    "        # 최종 상태가 아닌 다음 state의 최대 Q-value 계산\n",
    "        a_m = torch.zeros(BATCH_SIZE).type(torch.LongTensor)\n",
    "        a_m[non_final_mask] = self.main_q_network(\n",
    "            self.non_final_next_states).detach().max(1)[1]\n",
    "        a_m_non_final_next_states = a_m[non_final_mask].view(-1, 1)\n",
    "        next_state_values[non_final_mask] = self.target_q_network(\n",
    "            self.non_final_next_states).gather(1, a_m_non_final_next_states).detach().squeeze()\n",
    "\n",
    "        expected_state_action_values = self.reward_batch + GAMMA * next_state_values   # 예측되는 Q-value 계산\n",
    "\n",
    "        return expected_state_action_values\n",
    "\n",
    "    def update_main_q_network(self):\n",
    "\n",
    "        self.main_q_network.train()  # training mode 로 전환\n",
    "\n",
    "        # 손실 계산\n",
    "        loss = F.smooth_l1_loss(self.state_action_values,\n",
    "                                self.expected_state_action_values.unsqueeze(1))\n",
    "\n",
    "        self.optimizer.zero_grad()  # 경사 초기화\n",
    "        loss.backward()  # 역전파 계산\n",
    "        self.optimizer.step()  # 가중치 업데이트\n",
    "\n",
    "    def update_target_q_network(self):  # 타겟 신경망 업데이트\n",
    "        self.target_q_network.load_state_dict(self.main_q_network.state_dict())"
   ]
  },
  {
   "cell_type": "markdown",
   "metadata": {},
   "source": [
    "## 4. Cartpole Agent 설계"
   ]
  },
  {
   "cell_type": "code",
   "execution_count": 33,
   "metadata": {
    "ExecuteTime": {
     "end_time": "2024-03-08T05:01:57.139116100Z",
     "start_time": "2024-03-08T05:01:57.133115600Z"
    }
   },
   "outputs": [],
   "source": [
    "class Agent:\n",
    "    def __init__(self, num_states, num_actions):\n",
    "        self.brain = Brain(num_states, num_actions)  \n",
    "        \n",
    "    def update_q_function(self):\n",
    "        self.brain.replay()   # replay 메소드 호출\n",
    "\n",
    "    def get_action(self, state, episode):\n",
    "        action = self.brain.decide_action(state, episode)  # 현재 state에서의 action 선택\n",
    "        return action\n",
    "\n",
    "    def memorize(self, state, action, state_next, reward):\n",
    "        self.brain.memory.push(state, action, state_next, reward)   # brain의 메모리에 transition을 저장\n",
    "\n",
    "    def update_target_q_function(self):\n",
    "        self.brain.update_target_q_network()   # 타겟 신경망 업데이트"
   ]
  },
  {
   "cell_type": "markdown",
   "metadata": {},
   "source": [
    "## 5. Cartpole 환경 설계"
   ]
  },
  {
   "cell_type": "code",
   "execution_count": 34,
   "metadata": {
    "ExecuteTime": {
     "end_time": "2024-03-08T05:01:57.779678900Z",
     "start_time": "2024-03-08T05:01:57.763095300Z"
    }
   },
   "outputs": [],
   "source": [
    "class Environment:\n",
    "\n",
    "    def __init__(self):\n",
    "        # self.env = gym.make(ENV)  \n",
    "        self.env = gym.make(ENV, render_mode=\"rgb_array\") \n",
    "        num_states = self.env.observation_space.shape[0] \n",
    "        num_actions = self.env.action_space.n  \n",
    "        self.agent = Agent(num_states, num_actions)  \n",
    "\n",
    "    def run(self):\n",
    "        episode_10_list = np.zeros(10)    # 최근 10 에피소드의 step 수 기록 리스트\n",
    "        complete_episodes = 0    # 성공 에피소드 수\n",
    "        episode_final = False     # 마지막 에피소드인지 확인\n",
    "        frames = []    # 애니메이션 프레임 저장\n",
    "        \n",
    "        for episode in range(NUM_EPISODES): \n",
    "            observation = self.env.reset()  # 환경 리셋\n",
    "\n",
    "            state = observation    # observation 저장\n",
    "            state = state[0]\n",
    "            state = torch.from_numpy(state).type(\n",
    "                torch.FloatTensor)    # 텐서로 변환\n",
    "            state = torch.unsqueeze(state, 0)   # state 텐서 차원 추가\n",
    "\n",
    "            for step in range(MAX_STEPS):  \n",
    "                \n",
    "                if episode_final is True:  \n",
    "                    # frames.append(self.env.render(mode='rgb_array'))\n",
    "                    frames.append(self.env.render())   # 마지막 에피소드면 렌더링\n",
    "                    \n",
    "                action = self.agent.get_action(state, episode)    # agent가 action 선택\n",
    "\n",
    "                \"\"\"\n",
    "                observation_next, reward, done, _ = self.env.step(\n",
    "                    action.item()) \n",
    "                \"\"\"\n",
    "                # action 수행 후 결과 저장\n",
    "                step_result = self.env.step(action.item())\n",
    "                observation_next = step_result[0]\n",
    "                reward = step_result[1]\n",
    "                done = step_result[2]\n",
    "                \n",
    "                if done:    # 에피소드 종료\n",
    "                    state_next = None \n",
    "\n",
    "                    episode_10_list = np.hstack(\n",
    "                        (episode_10_list[1:], step + 1))  # 가장 최근 10개 에피소드의 step 기록\n",
    "\n",
    "                    if step < 100:   # step이 100미만\n",
    "                        reward = torch.FloatTensor(\n",
    "                            [-1.0])   # reward -1\n",
    "                        complete_episodes = 0    # 연속 성공 에피소드 초기화\n",
    "                    else:\n",
    "                        reward = torch.FloatTensor([1.0])     # reward +1\n",
    "                        complete_episodes = complete_episodes + 1 \n",
    "                        print(complete_episodes)# 연속 성공 에피소드 증가\n",
    "# 연속 성공 에피소드 증가\n",
    "                else:\n",
    "                    reward = torch.FloatTensor([0.0])   # 중간 reward 0 부여\n",
    "                    state_next = observation_next  \n",
    "                    state_next = torch.from_numpy(state_next).type(\n",
    "                        torch.FloatTensor)  \n",
    "                    state_next = torch.unsqueeze(state_next, 0)  \n",
    "                    \n",
    "\n",
    "                self.agent.memorize(state, action, state_next, reward)   # 메모리에 transition 저장\n",
    "                self.agent.update_q_function()    # 신경망 업데이트\n",
    "\n",
    "                state = state_next\n",
    "\n",
    "                if done:\n",
    "                    print('%d Episode: Finished after %d steps：최근 10 에피소드의 평균 단계 수 = %.1lf' % (\n",
    "                        episode, step + 1, episode_10_list.mean()))\n",
    "                    \n",
    "                    if(episode % 2 == 0):\n",
    "                        self.agent.update_target_q_function()   # 2 에피소드마다 타겟 신경망 업데이트\n",
    "                    break\n",
    "                    \n",
    "                    \n",
    "            if episode_final is True:\n",
    "                display_frames_as_gif(frames)  # 애니메이션 저장, 표시\n",
    "                break\n",
    "\n",
    "            if complete_episodes >= 15:\n",
    "                print('10 에피소드 연속 성공')\n",
    "                episode_final = True  "
   ]
  },
  {
   "cell_type": "markdown",
   "metadata": {},
   "source": [
    "## 6. Cartpole DDQN 학습"
   ]
  },
  {
   "cell_type": "code",
   "execution_count": 35,
   "metadata": {
    "ExecuteTime": {
     "end_time": "2024-03-08T05:02:45.426290300Z",
     "start_time": "2024-03-08T05:01:58.601312600Z"
    }
   },
   "outputs": [
    {
     "name": "stderr",
     "output_type": "stream",
     "text": [
      "C:\\Users\\yejun\\PycharmProjects\\pythonProject\\.venv\\lib\\site-packages\\gym\\envs\\registration.py:555: UserWarning: \u001B[33mWARN: The environment CartPole-v0 is out of date. You should consider upgrading to version `v1`.\u001B[0m\n",
      "  logger.warn(\n",
      "C:\\Users\\yejun\\PycharmProjects\\pythonProject\\.venv\\lib\\site-packages\\gym\\utils\\passive_env_checker.py:233: DeprecationWarning: `np.bool8` is a deprecated alias for `np.bool_`.  (Deprecated NumPy 1.24)\n",
      "  if not isinstance(terminated, (bool, np.bool8)):\n",
      "C:\\Users\\yejun\\AppData\\Local\\Temp\\ipykernel_25912\\2178817696.py:79: UserWarning: indexing with dtype torch.uint8 is now deprecated, please use a dtype torch.bool instead. (Triggered internally at C:\\actions-runner\\_work\\pytorch\\pytorch\\builder\\windows\\pytorch\\aten\\src\\ATen/native/IndexingUtils.h:28.)\n",
      "  a_m[non_final_mask] = self.main_q_network(\n",
      "C:\\Users\\yejun\\AppData\\Local\\Temp\\ipykernel_25912\\2178817696.py:81: UserWarning: indexing with dtype torch.uint8 is now deprecated, please use a dtype torch.bool instead. (Triggered internally at C:\\actions-runner\\_work\\pytorch\\pytorch\\builder\\windows\\pytorch\\aten\\src\\ATen/native/IndexingUtils.h:28.)\n",
      "  a_m_non_final_next_states = a_m[non_final_mask].view(-1, 1)\n",
      "C:\\Users\\yejun\\AppData\\Local\\Temp\\ipykernel_25912\\2178817696.py:82: UserWarning: indexing with dtype torch.uint8 is now deprecated, please use a dtype torch.bool instead. (Triggered internally at C:\\actions-runner\\_work\\pytorch\\pytorch\\builder\\windows\\pytorch\\aten\\src\\ATen/native/IndexingUtils.h:28.)\n",
      "  next_state_values[non_final_mask] = self.target_q_network(\n"
     ]
    },
    {
     "name": "stdout",
     "output_type": "stream",
     "text": [
      "Net(\n",
      "  (fc1): Linear(in_features=4, out_features=32, bias=True)\n",
      "  (fc2): Linear(in_features=32, out_features=32, bias=True)\n",
      "  (fc3): Linear(in_features=32, out_features=2, bias=True)\n",
      ")\n",
      "0 Episode: Finished after 28 steps：최근 10 에피소드의 평균 단계 수 = 2.8\n",
      "1 Episode: Finished after 27 steps：최근 10 에피소드의 평균 단계 수 = 5.5\n",
      "2 Episode: Finished after 18 steps：최근 10 에피소드의 평균 단계 수 = 7.3\n",
      "3 Episode: Finished after 16 steps：최근 10 에피소드의 평균 단계 수 = 8.9\n",
      "4 Episode: Finished after 20 steps：최근 10 에피소드의 평균 단계 수 = 10.9\n",
      "5 Episode: Finished after 22 steps：최근 10 에피소드의 평균 단계 수 = 13.1\n",
      "6 Episode: Finished after 30 steps：최근 10 에피소드의 평균 단계 수 = 16.1\n",
      "7 Episode: Finished after 45 steps：최근 10 에피소드의 평균 단계 수 = 20.6\n",
      "8 Episode: Finished after 10 steps：최근 10 에피소드의 평균 단계 수 = 21.6\n",
      "9 Episode: Finished after 33 steps：최근 10 에피소드의 평균 단계 수 = 24.9\n",
      "10 Episode: Finished after 40 steps：최근 10 에피소드의 평균 단계 수 = 26.1\n",
      "11 Episode: Finished after 22 steps：최근 10 에피소드의 평균 단계 수 = 25.6\n",
      "12 Episode: Finished after 19 steps：최근 10 에피소드의 평균 단계 수 = 25.7\n",
      "13 Episode: Finished after 22 steps：최근 10 에피소드의 평균 단계 수 = 26.3\n",
      "14 Episode: Finished after 10 steps：최근 10 에피소드의 평균 단계 수 = 25.3\n",
      "15 Episode: Finished after 10 steps：최근 10 에피소드의 평균 단계 수 = 24.1\n",
      "16 Episode: Finished after 11 steps：최근 10 에피소드의 평균 단계 수 = 22.2\n",
      "17 Episode: Finished after 9 steps：최근 10 에피소드의 평균 단계 수 = 18.6\n",
      "18 Episode: Finished after 21 steps：최근 10 에피소드의 평균 단계 수 = 19.7\n",
      "19 Episode: Finished after 8 steps：최근 10 에피소드의 평균 단계 수 = 17.2\n",
      "20 Episode: Finished after 10 steps：최근 10 에피소드의 평균 단계 수 = 14.2\n",
      "21 Episode: Finished after 12 steps：최근 10 에피소드의 평균 단계 수 = 13.2\n",
      "22 Episode: Finished after 9 steps：최근 10 에피소드의 평균 단계 수 = 12.2\n",
      "23 Episode: Finished after 11 steps：최근 10 에피소드의 평균 단계 수 = 11.1\n",
      "24 Episode: Finished after 14 steps：최근 10 에피소드의 평균 단계 수 = 11.5\n",
      "25 Episode: Finished after 10 steps：최근 10 에피소드의 평균 단계 수 = 11.5\n",
      "26 Episode: Finished after 12 steps：최근 10 에피소드의 평균 단계 수 = 11.6\n",
      "27 Episode: Finished after 24 steps：최근 10 에피소드의 평균 단계 수 = 13.1\n",
      "28 Episode: Finished after 13 steps：최근 10 에피소드의 평균 단계 수 = 12.3\n",
      "29 Episode: Finished after 13 steps：최근 10 에피소드의 평균 단계 수 = 12.8\n",
      "30 Episode: Finished after 12 steps：최근 10 에피소드의 평균 단계 수 = 13.0\n",
      "31 Episode: Finished after 11 steps：최근 10 에피소드의 평균 단계 수 = 12.9\n",
      "32 Episode: Finished after 10 steps：최근 10 에피소드의 평균 단계 수 = 13.0\n",
      "33 Episode: Finished after 9 steps：최근 10 에피소드의 평균 단계 수 = 12.8\n",
      "34 Episode: Finished after 11 steps：최근 10 에피소드의 평균 단계 수 = 12.5\n",
      "35 Episode: Finished after 18 steps：최근 10 에피소드의 평균 단계 수 = 13.3\n",
      "36 Episode: Finished after 19 steps：최근 10 에피소드의 평균 단계 수 = 14.0\n",
      "37 Episode: Finished after 27 steps：최근 10 에피소드의 평균 단계 수 = 14.3\n",
      "38 Episode: Finished after 53 steps：최근 10 에피소드의 평균 단계 수 = 18.3\n",
      "39 Episode: Finished after 18 steps：최근 10 에피소드의 평균 단계 수 = 18.8\n",
      "40 Episode: Finished after 33 steps：최근 10 에피소드의 평균 단계 수 = 20.9\n",
      "41 Episode: Finished after 67 steps：최근 10 에피소드의 평균 단계 수 = 26.5\n",
      "42 Episode: Finished after 41 steps：최근 10 에피소드의 평균 단계 수 = 29.6\n",
      "43 Episode: Finished after 53 steps：최근 10 에피소드의 평균 단계 수 = 34.0\n",
      "44 Episode: Finished after 27 steps：최근 10 에피소드의 평균 단계 수 = 35.6\n",
      "45 Episode: Finished after 36 steps：최근 10 에피소드의 평균 단계 수 = 37.4\n",
      "46 Episode: Finished after 65 steps：최근 10 에피소드의 평균 단계 수 = 42.0\n",
      "47 Episode: Finished after 75 steps：최근 10 에피소드의 평균 단계 수 = 46.8\n",
      "48 Episode: Finished after 26 steps：최근 10 에피소드의 평균 단계 수 = 44.1\n",
      "49 Episode: Finished after 58 steps：최근 10 에피소드의 평균 단계 수 = 48.1\n",
      "1\n",
      "50 Episode: Finished after 101 steps：최근 10 에피소드의 평균 단계 수 = 54.9\n",
      "51 Episode: Finished after 57 steps：최근 10 에피소드의 평균 단계 수 = 53.9\n",
      "52 Episode: Finished after 60 steps：최근 10 에피소드의 평균 단계 수 = 55.8\n",
      "53 Episode: Finished after 41 steps：최근 10 에피소드의 평균 단계 수 = 54.6\n",
      "54 Episode: Finished after 64 steps：최근 10 에피소드의 평균 단계 수 = 58.3\n",
      "55 Episode: Finished after 73 steps：최근 10 에피소드의 평균 단계 수 = 62.0\n",
      "56 Episode: Finished after 75 steps：최근 10 에피소드의 평균 단계 수 = 63.0\n",
      "57 Episode: Finished after 38 steps：최근 10 에피소드의 평균 단계 수 = 59.3\n",
      "58 Episode: Finished after 53 steps：최근 10 에피소드의 평균 단계 수 = 62.0\n",
      "59 Episode: Finished after 35 steps：최근 10 에피소드의 평균 단계 수 = 59.7\n",
      "60 Episode: Finished after 68 steps：최근 10 에피소드의 평균 단계 수 = 56.4\n",
      "61 Episode: Finished after 40 steps：최근 10 에피소드의 평균 단계 수 = 54.7\n",
      "62 Episode: Finished after 86 steps：최근 10 에피소드의 평균 단계 수 = 57.3\n",
      "63 Episode: Finished after 83 steps：최근 10 에피소드의 평균 단계 수 = 61.5\n",
      "64 Episode: Finished after 57 steps：최근 10 에피소드의 평균 단계 수 = 60.8\n",
      "65 Episode: Finished after 70 steps：최근 10 에피소드의 평균 단계 수 = 60.5\n",
      "1\n",
      "67 Episode: Finished after 164 steps：최근 10 에피소드의 평균 단계 수 = 69.4\n",
      "68 Episode: Finished after 66 steps：최근 10 에피소드의 평균 단계 수 = 72.2\n",
      "69 Episode: Finished after 78 steps：최근 10 에피소드의 평균 단계 수 = 74.7\n",
      "1\n",
      "71 Episode: Finished after 177 steps：최근 10 에피소드의 평균 단계 수 = 88.9\n",
      "72 Episode: Finished after 94 steps：최근 10 에피소드의 평균 단계 수 = 91.5\n",
      "73 Episode: Finished after 93 steps：최근 10 에피소드의 평균 단계 수 = 96.8\n",
      "74 Episode: Finished after 62 steps：최근 10 에피소드의 평균 단계 수 = 94.4\n",
      "75 Episode: Finished after 58 steps：최근 10 에피소드의 평균 단계 수 = 91.9\n",
      "77 Episode: Finished after 91 steps：최근 10 에피소드의 평균 단계 수 = 95.3\n",
      "79 Episode: Finished after 54 steps：최근 10 에피소드의 평균 단계 수 = 93.7\n",
      "1\n",
      "81 Episode: Finished after 199 steps：최근 10 에피소드의 평균 단계 수 = 97.2\n",
      "2\n",
      "82 Episode: Finished after 168 steps：최근 10 에피소드의 평균 단계 수 = 107.4\n",
      "3\n",
      "83 Episode: Finished after 165 steps：최근 10 에피소드의 평균 단계 수 = 116.1\n",
      "4\n",
      "84 Episode: Finished after 161 steps：최근 10 에피소드의 평균 단계 수 = 114.5\n",
      "86 Episode: Finished after 98 steps：최근 10 에피소드의 평균 단계 수 = 114.9\n",
      "1\n",
      "93 Episode: Finished after 181 steps：최근 10 에피소드의 평균 단계 수 = 123.7\n",
      "2\n",
      "99 Episode: Finished after 199 steps：최근 10 에피소드의 평균 단계 수 = 137.4\n",
      "3\n",
      "102 Episode: Finished after 196 steps：최근 10 에피소드의 평균 단계 수 = 151.2\n",
      "4\n",
      "106 Episode: Finished after 197 steps：최근 10 에피소드의 평균 단계 수 = 161.8\n",
      "5\n",
      "109 Episode: Finished after 145 steps：최근 10 에피소드의 평균 단계 수 = 170.9\n",
      "6\n",
      "116 Episode: Finished after 191 steps：최근 10 에피소드의 평균 단계 수 = 170.1\n",
      "7\n",
      "122 Episode: Finished after 179 steps：최근 10 에피소드의 평균 단계 수 = 171.2\n",
      "8\n",
      "136 Episode: Finished after 120 steps：최근 10 에피소드의 평균 단계 수 = 166.7\n",
      "9\n",
      "139 Episode: Finished after 124 steps：최근 10 에피소드의 평균 단계 수 = 163.0\n",
      "10\n",
      "141 Episode: Finished after 196 steps：최근 10 에피소드의 평균 단계 수 = 172.8\n",
      "11\n",
      "144 Episode: Finished after 176 steps：최근 10 에피소드의 평균 단계 수 = 172.3\n",
      "12\n",
      "147 Episode: Finished after 195 steps：최근 10 에피소드의 평균 단계 수 = 171.9\n",
      "13\n",
      "160 Episode: Finished after 145 steps：최근 10 에피소드의 평균 단계 수 = 166.8\n",
      "14\n",
      "161 Episode: Finished after 179 steps：최근 10 에피소드의 평균 단계 수 = 165.0\n",
      "15\n",
      "162 Episode: Finished after 160 steps：최근 10 에피소드의 평균 단계 수 = 166.5\n",
      "10 에피소드 연속 성공\n"
     ]
    },
    {
     "name": "stderr",
     "output_type": "stream",
     "text": [
      "MovieWriter ffmpeg unavailable; using Pillow instead.\n"
     ]
    },
    {
     "ename": "TypeError",
     "evalue": "setup() got an unexpected keyword argument 'clear_temp'",
     "output_type": "error",
     "traceback": [
      "\u001B[1;31m---------------------------------------------------------------------------\u001B[0m",
      "\u001B[1;31mTypeError\u001B[0m                                 Traceback (most recent call last)",
      "Cell \u001B[1;32mIn[35], line 2\u001B[0m\n\u001B[0;32m      1\u001B[0m cartpole_env \u001B[38;5;241m=\u001B[39m Environment()\n\u001B[1;32m----> 2\u001B[0m \u001B[43mcartpole_env\u001B[49m\u001B[38;5;241;43m.\u001B[39;49m\u001B[43mrun\u001B[49m\u001B[43m(\u001B[49m\u001B[43m)\u001B[49m\n",
      "Cell \u001B[1;32mIn[34], line 81\u001B[0m, in \u001B[0;36mEnvironment.run\u001B[1;34m(self)\u001B[0m\n\u001B[0;32m     77\u001B[0m         \u001B[38;5;28;01mbreak\u001B[39;00m\n\u001B[0;32m     80\u001B[0m \u001B[38;5;28;01mif\u001B[39;00m episode_final \u001B[38;5;129;01mis\u001B[39;00m \u001B[38;5;28;01mTrue\u001B[39;00m:\n\u001B[1;32m---> 81\u001B[0m     \u001B[43mdisplay_frames_as_gif\u001B[49m\u001B[43m(\u001B[49m\u001B[43mframes\u001B[49m\u001B[43m)\u001B[49m  \u001B[38;5;66;03m# 애니메이션 저장, 표시\u001B[39;00m\n\u001B[0;32m     82\u001B[0m     \u001B[38;5;28;01mbreak\u001B[39;00m\n\u001B[0;32m     84\u001B[0m \u001B[38;5;28;01mif\u001B[39;00m complete_episodes \u001B[38;5;241m>\u001B[39m\u001B[38;5;241m=\u001B[39m \u001B[38;5;241m15\u001B[39m:\n",
      "Cell \u001B[1;32mIn[25], line 19\u001B[0m, in \u001B[0;36mdisplay_frames_as_gif\u001B[1;34m(frames)\u001B[0m\n\u001B[0;32m     15\u001B[0m anim \u001B[38;5;241m=\u001B[39m animation\u001B[38;5;241m.\u001B[39mFuncAnimation(plt\u001B[38;5;241m.\u001B[39mgcf(), animate, frames\u001B[38;5;241m=\u001B[39m\u001B[38;5;28mlen\u001B[39m(frames),\n\u001B[0;32m     16\u001B[0m                                interval\u001B[38;5;241m=\u001B[39m\u001B[38;5;241m50\u001B[39m)   \u001B[38;5;66;03m# 애니메이션 생성\u001B[39;00m\n\u001B[0;32m     18\u001B[0m anim\u001B[38;5;241m.\u001B[39msave(\u001B[38;5;124m'\u001B[39m\u001B[38;5;124mCartpole_DDQN.gif\u001B[39m\u001B[38;5;124m'\u001B[39m)  \u001B[38;5;66;03m# 시연영상을 저장\u001B[39;00m\n\u001B[1;32m---> 19\u001B[0m display(\u001B[43mdisplay_animation\u001B[49m\u001B[43m(\u001B[49m\u001B[43manim\u001B[49m\u001B[43m,\u001B[49m\u001B[43m \u001B[49m\u001B[43mdefault_mode\u001B[49m\u001B[38;5;241;43m=\u001B[39;49m\u001B[38;5;124;43m'\u001B[39;49m\u001B[38;5;124;43mloop\u001B[39;49m\u001B[38;5;124;43m'\u001B[39;49m\u001B[43m)\u001B[49m)\n",
      "File \u001B[1;32m~\\PycharmProjects\\pythonProject\\.venv\\lib\\site-packages\\JSAnimation\\IPython_display.py:86\u001B[0m, in \u001B[0;36mdisplay_animation\u001B[1;34m(anim, **kwargs)\u001B[0m\n\u001B[0;32m     84\u001B[0m \u001B[38;5;250m\u001B[39m\u001B[38;5;124;03m\"\"\"Display the animation with an IPython HTML object\"\"\"\u001B[39;00m\n\u001B[0;32m     85\u001B[0m \u001B[38;5;28;01mfrom\u001B[39;00m \u001B[38;5;21;01mIPython\u001B[39;00m\u001B[38;5;21;01m.\u001B[39;00m\u001B[38;5;21;01mdisplay\u001B[39;00m \u001B[38;5;28;01mimport\u001B[39;00m HTML\n\u001B[1;32m---> 86\u001B[0m \u001B[38;5;28;01mreturn\u001B[39;00m HTML(anim_to_html(anim, \u001B[38;5;241m*\u001B[39m\u001B[38;5;241m*\u001B[39mkwargs))\n",
      "File \u001B[1;32m~\\PycharmProjects\\pythonProject\\.venv\\lib\\site-packages\\JSAnimation\\IPython_display.py:74\u001B[0m, in \u001B[0;36manim_to_html\u001B[1;34m(anim, fps, embed_frames, default_mode)\u001B[0m\n\u001B[0;32m     69\u001B[0m \u001B[38;5;28;01melse\u001B[39;00m:\n\u001B[0;32m     70\u001B[0m     \u001B[38;5;66;03m# tempfile can't be used here: we need a filename, and this\u001B[39;00m\n\u001B[0;32m     71\u001B[0m     \u001B[38;5;66;03m# fails on windows.  Instead, we use a custom filename generator\u001B[39;00m\n\u001B[0;32m     72\u001B[0m     \u001B[38;5;66;03m#with tempfile.NamedTemporaryFile(suffix='.html') as f:\u001B[39;00m\n\u001B[0;32m     73\u001B[0m     \u001B[38;5;28;01mwith\u001B[39;00m _NameOnlyTemporaryFile(suffix\u001B[38;5;241m=\u001B[39m\u001B[38;5;124m'\u001B[39m\u001B[38;5;124m.html\u001B[39m\u001B[38;5;124m'\u001B[39m) \u001B[38;5;28;01mas\u001B[39;00m f:\n\u001B[1;32m---> 74\u001B[0m         \u001B[43manim\u001B[49m\u001B[38;5;241;43m.\u001B[39;49m\u001B[43msave\u001B[49m\u001B[43m(\u001B[49m\u001B[43mf\u001B[49m\u001B[38;5;241;43m.\u001B[39;49m\u001B[43mname\u001B[49m\u001B[43m,\u001B[49m\u001B[43m  \u001B[49m\u001B[43mwriter\u001B[49m\u001B[38;5;241;43m=\u001B[39;49m\u001B[43mHTMLWriter\u001B[49m\u001B[43m(\u001B[49m\u001B[43mfps\u001B[49m\u001B[38;5;241;43m=\u001B[39;49m\u001B[43mfps\u001B[49m\u001B[43m,\u001B[49m\n\u001B[0;32m     75\u001B[0m \u001B[43m                                             \u001B[49m\u001B[43membed_frames\u001B[49m\u001B[38;5;241;43m=\u001B[39;49m\u001B[43membed_frames\u001B[49m\u001B[43m,\u001B[49m\n\u001B[0;32m     76\u001B[0m \u001B[43m                                             \u001B[49m\u001B[43mdefault_mode\u001B[49m\u001B[38;5;241;43m=\u001B[39;49m\u001B[43mdefault_mode\u001B[49m\u001B[43m)\u001B[49m\u001B[43m)\u001B[49m\n\u001B[0;32m     77\u001B[0m         html \u001B[38;5;241m=\u001B[39m \u001B[38;5;28mopen\u001B[39m(f\u001B[38;5;241m.\u001B[39mname)\u001B[38;5;241m.\u001B[39mread()\n\u001B[0;32m     79\u001B[0m     anim\u001B[38;5;241m.\u001B[39m_html_representation \u001B[38;5;241m=\u001B[39m html\n",
      "File \u001B[1;32m~\\PycharmProjects\\pythonProject\\.venv\\lib\\site-packages\\matplotlib\\animation.py:1089\u001B[0m, in \u001B[0;36mAnimation.save\u001B[1;34m(self, filename, writer, fps, dpi, codec, bitrate, extra_args, metadata, extra_anim, savefig_kwargs, progress_callback)\u001B[0m\n\u001B[0;32m   1085\u001B[0m savefig_kwargs[\u001B[38;5;124m'\u001B[39m\u001B[38;5;124mtransparent\u001B[39m\u001B[38;5;124m'\u001B[39m] \u001B[38;5;241m=\u001B[39m \u001B[38;5;28;01mFalse\u001B[39;00m   \u001B[38;5;66;03m# just to be safe!\u001B[39;00m\n\u001B[0;32m   1086\u001B[0m \u001B[38;5;66;03m# canvas._is_saving = True makes the draw_event animation-starting\u001B[39;00m\n\u001B[0;32m   1087\u001B[0m \u001B[38;5;66;03m# callback a no-op; canvas.manager = None prevents resizing the GUI\u001B[39;00m\n\u001B[0;32m   1088\u001B[0m \u001B[38;5;66;03m# widget (both are likewise done in savefig()).\u001B[39;00m\n\u001B[1;32m-> 1089\u001B[0m \u001B[38;5;28;01mwith\u001B[39;00m writer\u001B[38;5;241m.\u001B[39msaving(\u001B[38;5;28mself\u001B[39m\u001B[38;5;241m.\u001B[39m_fig, filename, dpi), \\\n\u001B[0;32m   1090\u001B[0m      cbook\u001B[38;5;241m.\u001B[39m_setattr_cm(\u001B[38;5;28mself\u001B[39m\u001B[38;5;241m.\u001B[39m_fig\u001B[38;5;241m.\u001B[39mcanvas, _is_saving\u001B[38;5;241m=\u001B[39m\u001B[38;5;28;01mTrue\u001B[39;00m, manager\u001B[38;5;241m=\u001B[39m\u001B[38;5;28;01mNone\u001B[39;00m):\n\u001B[0;32m   1091\u001B[0m     \u001B[38;5;28;01mfor\u001B[39;00m anim \u001B[38;5;129;01min\u001B[39;00m all_anim:\n\u001B[0;32m   1092\u001B[0m         anim\u001B[38;5;241m.\u001B[39m_init_draw()  \u001B[38;5;66;03m# Clear the initial frame\u001B[39;00m\n",
      "File \u001B[1;32m~\\AppData\\Local\\Programs\\Python\\Python39\\lib\\contextlib.py:117\u001B[0m, in \u001B[0;36m_GeneratorContextManager.__enter__\u001B[1;34m(self)\u001B[0m\n\u001B[0;32m    115\u001B[0m \u001B[38;5;28;01mdel\u001B[39;00m \u001B[38;5;28mself\u001B[39m\u001B[38;5;241m.\u001B[39margs, \u001B[38;5;28mself\u001B[39m\u001B[38;5;241m.\u001B[39mkwds, \u001B[38;5;28mself\u001B[39m\u001B[38;5;241m.\u001B[39mfunc\n\u001B[0;32m    116\u001B[0m \u001B[38;5;28;01mtry\u001B[39;00m:\n\u001B[1;32m--> 117\u001B[0m     \u001B[38;5;28;01mreturn\u001B[39;00m \u001B[38;5;28;43mnext\u001B[39;49m\u001B[43m(\u001B[49m\u001B[38;5;28;43mself\u001B[39;49m\u001B[38;5;241;43m.\u001B[39;49m\u001B[43mgen\u001B[49m\u001B[43m)\u001B[49m\n\u001B[0;32m    118\u001B[0m \u001B[38;5;28;01mexcept\u001B[39;00m \u001B[38;5;167;01mStopIteration\u001B[39;00m:\n\u001B[0;32m    119\u001B[0m     \u001B[38;5;28;01mraise\u001B[39;00m \u001B[38;5;167;01mRuntimeError\u001B[39;00m(\u001B[38;5;124m\"\u001B[39m\u001B[38;5;124mgenerator didn\u001B[39m\u001B[38;5;124m'\u001B[39m\u001B[38;5;124mt yield\u001B[39m\u001B[38;5;124m\"\u001B[39m) \u001B[38;5;28;01mfrom\u001B[39;00m \u001B[38;5;28;01mNone\u001B[39;00m\n",
      "File \u001B[1;32m~\\PycharmProjects\\pythonProject\\.venv\\lib\\site-packages\\matplotlib\\animation.py:240\u001B[0m, in \u001B[0;36mAbstractMovieWriter.saving\u001B[1;34m(self, fig, outfile, dpi, *args, **kwargs)\u001B[0m\n\u001B[0;32m    235\u001B[0m     _log\u001B[38;5;241m.\u001B[39minfo(\u001B[38;5;124m\"\u001B[39m\u001B[38;5;124mDisabling savefig.bbox = \u001B[39m\u001B[38;5;124m'\u001B[39m\u001B[38;5;124mtight\u001B[39m\u001B[38;5;124m'\u001B[39m\u001B[38;5;124m, as it may cause \u001B[39m\u001B[38;5;124m\"\u001B[39m\n\u001B[0;32m    236\u001B[0m               \u001B[38;5;124m\"\u001B[39m\u001B[38;5;124mframe size to vary, which is inappropriate for \u001B[39m\u001B[38;5;124m\"\u001B[39m\n\u001B[0;32m    237\u001B[0m               \u001B[38;5;124m\"\u001B[39m\u001B[38;5;124manimation.\u001B[39m\u001B[38;5;124m\"\u001B[39m)\n\u001B[0;32m    239\u001B[0m \u001B[38;5;66;03m# This particular sequence is what contextlib.contextmanager wants\u001B[39;00m\n\u001B[1;32m--> 240\u001B[0m \u001B[38;5;28mself\u001B[39m\u001B[38;5;241m.\u001B[39msetup(fig, outfile, dpi, \u001B[38;5;241m*\u001B[39margs, \u001B[38;5;241m*\u001B[39m\u001B[38;5;241m*\u001B[39mkwargs)\n\u001B[0;32m    241\u001B[0m \u001B[38;5;28;01mwith\u001B[39;00m mpl\u001B[38;5;241m.\u001B[39mrc_context({\u001B[38;5;124m'\u001B[39m\u001B[38;5;124msavefig.bbox\u001B[39m\u001B[38;5;124m'\u001B[39m: \u001B[38;5;28;01mNone\u001B[39;00m}):\n\u001B[0;32m    242\u001B[0m     \u001B[38;5;28;01mtry\u001B[39;00m:\n",
      "File \u001B[1;32m~\\PycharmProjects\\pythonProject\\.venv\\lib\\site-packages\\JSAnimation\\html_writer.py:281\u001B[0m, in \u001B[0;36mHTMLWriter.setup\u001B[1;34m(self, fig, outfile, dpi, frame_dir)\u001B[0m\n\u001B[0;32m    278\u001B[0m \u001B[38;5;28;01melse\u001B[39;00m:\n\u001B[0;32m    279\u001B[0m     frame_prefix \u001B[38;5;241m=\u001B[39m \u001B[38;5;28;01mNone\u001B[39;00m\n\u001B[1;32m--> 281\u001B[0m \u001B[38;5;28;43msuper\u001B[39;49m\u001B[43m(\u001B[49m\u001B[43mHTMLWriter\u001B[49m\u001B[43m,\u001B[49m\u001B[43m \u001B[49m\u001B[38;5;28;43mself\u001B[39;49m\u001B[43m)\u001B[49m\u001B[38;5;241;43m.\u001B[39;49m\u001B[43msetup\u001B[49m\u001B[43m(\u001B[49m\u001B[43mfig\u001B[49m\u001B[43m,\u001B[49m\u001B[43m \u001B[49m\u001B[43moutfile\u001B[49m\u001B[43m,\u001B[49m\u001B[43m \u001B[49m\u001B[43mdpi\u001B[49m\u001B[43m,\u001B[49m\n\u001B[0;32m    282\u001B[0m \u001B[43m                              \u001B[49m\u001B[43mframe_prefix\u001B[49m\u001B[43m,\u001B[49m\u001B[43m \u001B[49m\u001B[43mclear_temp\u001B[49m\u001B[38;5;241;43m=\u001B[39;49m\u001B[38;5;28;43;01mFalse\u001B[39;49;00m\u001B[43m)\u001B[49m\n",
      "\u001B[1;31mTypeError\u001B[0m: setup() got an unexpected keyword argument 'clear_temp'"
     ]
    }
   ],
   "source": [
    "cartpole_env = Environment()\n",
    "cartpole_env.run()"
   ]
  },
  {
   "cell_type": "code",
   "execution_count": null,
   "metadata": {
    "ExecuteTime": {
     "end_time": "2024-02-29T06:55:09.640274300Z",
     "start_time": "2024-02-29T06:55:09.633269400Z"
    }
   },
   "outputs": [],
   "source": []
  }
 ],
 "metadata": {
  "kernelspec": {
   "display_name": "Python 3",
   "language": "python",
   "name": "python3"
  },
  "language_info": {
   "codemirror_mode": {
    "name": "ipython",
    "version": 3
   },
   "file_extension": ".py",
   "mimetype": "text/x-python",
   "name": "python",
   "nbconvert_exporter": "python",
   "pygments_lexer": "ipython3",
   "version": "3.5.2"
  }
 },
 "nbformat": 4,
 "nbformat_minor": 2
}
