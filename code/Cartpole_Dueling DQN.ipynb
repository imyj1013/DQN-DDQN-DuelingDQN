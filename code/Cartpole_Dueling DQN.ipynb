{
 "cells": [
  {
   "cell_type": "markdown",
   "metadata": {},
   "source": [
    "## 1. Cartpole 강화학습 준비"
   ]
  },
  {
   "cell_type": "code",
   "execution_count": 37,
   "metadata": {
    "ExecuteTime": {
     "end_time": "2024-03-08T05:26:54.361524600Z",
     "start_time": "2024-03-08T05:26:54.318832400Z"
    }
   },
   "outputs": [],
   "source": [
    "import numpy as np\n",
    "import matplotlib.pyplot as plt\n",
    "%matplotlib inline\n",
    "import gym"
   ]
  },
  {
   "cell_type": "markdown",
   "metadata": {},
   "source": [
    "### 1.1 Cartpole 시연함수"
   ]
  },
  {
   "cell_type": "code",
   "execution_count": 38,
   "metadata": {
    "ExecuteTime": {
     "end_time": "2024-03-08T05:26:54.375317300Z",
     "start_time": "2024-03-08T05:26:54.367912300Z"
    }
   },
   "outputs": [],
   "source": [
    "from JSAnimation.IPython_display import display_animation\n",
    "from matplotlib import animation\n",
    "from IPython.display import display\n",
    "\n",
    "\n",
    "def display_frames_as_gif(frames):\n",
    "    plt.figure(figsize=(frames[0].shape[1] / 72.0, frames[0].shape[0] / 72.0),\n",
    "               dpi=72)   # 화면크기, 해상도 설정\n",
    "    patch = plt.imshow(frames[0])   # 첫번째 프레임을 화면에 표시\n",
    "    plt.axis('off')   # 축 표시 안함\n",
    "\n",
    "    def animate(i):\n",
    "        patch.set_data(frames[i])   # i번째 프레임 업데이트\n",
    "\n",
    "    anim = animation.FuncAnimation(plt.gcf(), animate, frames=len(frames),\n",
    "                                   interval=50)   # 애니메이션 생성\n",
    "\n",
    "    anim.save('Cartpole_DuelingNetwork.gif')  # 시연영상을 저장\n",
    "    display(display_animation(anim, default_mode='loop'))"
   ]
  },
  {
   "cell_type": "markdown",
   "metadata": {},
   "source": [
    "### 1.2 Constant 정의"
   ]
  },
  {
   "cell_type": "code",
   "execution_count": 39,
   "metadata": {
    "ExecuteTime": {
     "end_time": "2024-03-08T05:26:54.409415600Z",
     "start_time": "2024-03-08T05:26:54.380320500Z"
    }
   },
   "outputs": [],
   "source": [
    "#name tuple을 사용하여 Transition 정의\n",
    "from collections import namedtuple\n",
    "\n",
    "Transition = namedtuple(\n",
    "    'Transition', ('state', 'action', 'next_state', 'reward'))"
   ]
  },
  {
   "cell_type": "code",
   "execution_count": 40,
   "metadata": {
    "ExecuteTime": {
     "end_time": "2024-03-08T05:26:54.412341Z",
     "start_time": "2024-03-08T05:26:54.387009600Z"
    }
   },
   "outputs": [],
   "source": [
    "# 상수 정의\n",
    "ENV = 'CartPole-v0'   # task\n",
    "GAMMA = 0.99   # discount factor\n",
    "MAX_STEPS = 200    # 1에피소드 당 최대 단계 수\n",
    "NUM_EPISODES = 500    # 최대 에피소드 수"
   ]
  },
  {
   "cell_type": "markdown",
   "metadata": {},
   "source": [
    "## 2. ReplayMemory"
   ]
  },
  {
   "cell_type": "code",
   "execution_count": 41,
   "metadata": {
    "ExecuteTime": {
     "end_time": "2024-03-08T05:26:54.413914600Z",
     "start_time": "2024-03-08T05:26:54.390010700Z"
    }
   },
   "outputs": [],
   "source": [
    "class ReplayMemory:\n",
    "\n",
    "    def __init__(self, CAPACITY):\n",
    "        self.capacity = CAPACITY   # 메모리의 최대 저장 건수\n",
    "        self.memory = []   # 실제 transition을 저장할 변수\n",
    "        self.index = 0   # 저장 위치를 가리킬 인덱스 변수\n",
    "\n",
    "    def push(self, state, action, state_next, reward):\n",
    "        \n",
    "        # 메모리 공간 확인\n",
    "        if len(self.memory) < self.capacity:\n",
    "            self.memory.append(None)  \n",
    "\n",
    "        self.memory[self.index] = Transition(state, action, state_next, reward)  # 새로운 transition을 메모리에 추가\n",
    "        \n",
    "        self.index = (self.index + 1) % self.capacity     # 인덱스 설정\n",
    "\n",
    "    def sample(self, batch_size):\n",
    "        return random.sample(self.memory, batch_size)   # 메모리에서 랜덤하게 배치 추출\n",
    "\n",
    "    def __len__(self):\n",
    "        return len(self.memory)   # 메모리 크기 반환"
   ]
  },
  {
   "cell_type": "code",
   "execution_count": 42,
   "metadata": {
    "ExecuteTime": {
     "end_time": "2024-03-08T05:26:54.448565500Z",
     "start_time": "2024-03-08T05:26:54.416141600Z"
    }
   },
   "outputs": [],
   "source": [
    "#!pip install --upgrade pip"
   ]
  },
  {
   "cell_type": "code",
   "execution_count": 43,
   "metadata": {
    "ExecuteTime": {
     "end_time": "2024-03-08T05:26:54.468010200Z",
     "start_time": "2024-03-08T05:26:54.451559900Z"
    }
   },
   "outputs": [],
   "source": [
    "#!pip install torch"
   ]
  },
  {
   "cell_type": "markdown",
   "metadata": {},
   "source": [
    "## 3. Cartpole Dueling DQN 설계"
   ]
  },
  {
   "cell_type": "code",
   "execution_count": 44,
   "metadata": {
    "ExecuteTime": {
     "end_time": "2024-03-08T05:26:54.501003300Z",
     "start_time": "2024-03-08T05:26:54.476675700Z"
    }
   },
   "outputs": [],
   "source": [
    "import torch.nn as nn\n",
    "import torch.nn.functional as F\n",
    "\n",
    "\n",
    "class Net(nn.Module):  # 신경망 구조 정의\n",
    "\n",
    "    def __init__(self, n_in, n_mid, n_out):\n",
    "        super(Net, self).__init__()\n",
    "        self.fc1 = nn.Linear(n_in, n_mid)\n",
    "        self.fc2 = nn.Linear(n_mid, n_mid)\n",
    "        # Dueling Network\n",
    "        self.fc3_adv = nn.Linear(n_mid, n_out)  # advantage stream을 위한 fc layer\n",
    "        self.fc3_v = nn.Linear(n_mid, 1)  # value stream을 위한 fc layer\n",
    "        \n",
    "    def forward(self, x):   # 순전파 함수\n",
    "        h1 = F.relu(self.fc1(x))\n",
    "        h2 = F.relu(self.fc2(h1))\n",
    "\n",
    "        adv = self.fc3_adv(h2)    # advantage stream 계산\n",
    "        val = self.fc3_v(h2).expand(-1, adv.size(1))    # value stream 계산\n",
    "\n",
    "\n",
    "        output = val + adv - adv.mean(1, keepdim=True).expand(-1, adv.size(1))  # 최종 Q-value 계산\n",
    "        return output"
   ]
  },
  {
   "cell_type": "code",
   "execution_count": 45,
   "metadata": {
    "ExecuteTime": {
     "end_time": "2024-03-08T05:26:54.504004700Z",
     "start_time": "2024-03-08T05:26:54.496005500Z"
    }
   },
   "outputs": [],
   "source": [
    "import random\n",
    "import torch\n",
    "from torch import nn\n",
    "from torch import optim\n",
    "import torch.nn.functional as F\n",
    "\n",
    "BATCH_SIZE = 32   # 배치 크기\n",
    "CAPACITY = 10000   # 메모리 용량\n",
    "\n",
    "\n",
    "class Brain:\n",
    "    def __init__(self, num_states, num_actions):\n",
    "        self.num_actions = num_actions  \n",
    "\n",
    "        # 리플레이 메모리 설정\n",
    "        self.memory = ReplayMemory(CAPACITY)\n",
    "\n",
    "        # 신경망 초기화\n",
    "        n_in, n_mid, n_out = num_states, 32, num_actions\n",
    "        self.main_q_network = Net(n_in, n_mid, n_out)    # 메인 신경망\n",
    "        self.target_q_network = Net(n_in, n_mid, n_out)     # 타겟 신경망\n",
    "        print(self.main_q_network)      # 신경망 구조 출력\n",
    "\n",
    "        # 옵티마이저 초기화\n",
    "        self.optimizer = optim.Adam(\n",
    "            self.main_q_network.parameters(), lr=0.0001)\n",
    "\n",
    "    def replay(self):\n",
    "\n",
    "        if len(self.memory) < BATCH_SIZE:\n",
    "            return\n",
    "        self.batch, self.state_batch, self.action_batch, self.reward_batch, self.non_final_next_states = self.make_minibatch()  # 미니배치 생성\n",
    "        self.expected_state_action_values = self.get_expected_state_action_values()    # 예측되는 Q-value 계산\n",
    "        self.update_main_q_network()\n",
    "\n",
    "    def decide_action(self, state, episode):\n",
    "        epsilon = 0.5 * (1 / (episode + 1))\n",
    "\n",
    "        # 입실론-그리디 전략으로 action 선택\n",
    "        if epsilon <= np.random.uniform(0, 1):\n",
    "            self.main_q_network.eval()      # evaluation mode 로 전환\n",
    "            with torch.no_grad():\n",
    "                action = self.main_q_network(state).max(1)[1].view(1, 1)\n",
    "\n",
    "        else:\n",
    "            action = torch.LongTensor(\n",
    "                [[random.randrange(self.num_actions)]])     # 무작위 action 선택\n",
    "        return action\n",
    "\n",
    "    def make_minibatch(self):\n",
    "        transitions = self.memory.sample(BATCH_SIZE)   # 리플레이 버퍼에서 샘플링\n",
    "\n",
    "        batch = Transition(*zip(*transitions))\n",
    "\n",
    "        state_batch = torch.cat(batch.state)  # state의 텐서\n",
    "        action_batch = torch.cat(batch.action)  # action의 텐서\n",
    "        reward_batch = torch.cat(batch.reward)  # reward의 텐서\n",
    "        non_final_next_states = torch.cat([s for s in batch.next_state\n",
    "                                           if s is not None])   # none을 제외한 다음 state의 텐서\n",
    "\n",
    "        return batch, state_batch, action_batch, reward_batch, non_final_next_states\n",
    "\n",
    "    def get_expected_state_action_values(self):\n",
    "\n",
    "        # evaluation mode 로 전환\n",
    "        self.main_q_network.eval()\n",
    "        self.target_q_network.eval()\n",
    "\n",
    "        # 현재 state의 Q-value 계산\n",
    "        self.state_action_values = self.main_q_network(\n",
    "            self.state_batch).gather(1, self.action_batch)\n",
    "\n",
    "        non_final_mask = torch.ByteTensor(tuple(map(lambda s: s is not None,\n",
    "                                                    self.batch.next_state)))\n",
    "        next_state_values = torch.zeros(BATCH_SIZE)  # 다음 state value의 텐서 초기화\n",
    "\n",
    "        # 최대 Q-vaule의 인덱스\n",
    "        a_m = torch.zeros(BATCH_SIZE).type(torch.LongTensor)\n",
    "        a_m[non_final_mask] = self.main_q_network(\n",
    "            self.non_final_next_states).detach().max(1)[1]\n",
    "\n",
    "        a_m_non_final_next_states = a_m[non_final_mask].view(-1, 1)\n",
    "\n",
    "        # 타겟 네트워크에서 Q-value 가져와 업데이트\n",
    "        next_state_values[non_final_mask] = self.target_q_network(\n",
    "            self.non_final_next_states).gather(1, a_m_non_final_next_states).detach().squeeze()\n",
    "\n",
    "        expected_state_action_values = self.reward_batch + GAMMA * next_state_values   # 예측되는 Q-value 계산\n",
    "\n",
    "        return expected_state_action_values\n",
    "\n",
    "    def update_main_q_network(self):\n",
    "\n",
    "        self.main_q_network.train()  # training mode 로 전환\n",
    "\n",
    "        # 손실 계산\n",
    "        loss = F.smooth_l1_loss(self.state_action_values,\n",
    "                                self.expected_state_action_values.unsqueeze(1))\n",
    "\n",
    "        self.optimizer.zero_grad()   # 경사 초기화\n",
    "        loss.backward()    # 역전파 계산\n",
    "        self.optimizer.step()   # 가중치 업데이트\n",
    "\n",
    "    def update_target_q_network(self):    # 타겟 신경망 업데이트\n",
    "        self.target_q_network.load_state_dict(self.main_q_network.state_dict())"
   ]
  },
  {
   "cell_type": "markdown",
   "metadata": {},
   "source": [
    "## 4. Cartpole Agent 설계"
   ]
  },
  {
   "cell_type": "code",
   "execution_count": 46,
   "metadata": {
    "ExecuteTime": {
     "end_time": "2024-03-08T05:26:54.520626400Z",
     "start_time": "2024-03-08T05:26:54.506004400Z"
    }
   },
   "outputs": [],
   "source": [
    "class Agent:\n",
    "    def __init__(self, num_states, num_actions):\n",
    "        self.brain = Brain(num_states, num_actions)  \n",
    "        \n",
    "    def update_q_function(self):\n",
    "        self.brain.replay()   # replay 메소드 호출\n",
    "\n",
    "    def get_action(self, state, episode):\n",
    "        action = self.brain.decide_action(state, episode)  # 현재 state에서의 action 선택\n",
    "        return action\n",
    "\n",
    "    def memorize(self, state, action, state_next, reward):\n",
    "        self.brain.memory.push(state, action, state_next, reward)   # brain의 메모리에 transition을 저장\n",
    "\n",
    "    def update_target_q_function(self):\n",
    "        self.brain.update_target_q_network()   # 타겟 신경망 업데이트"
   ]
  },
  {
   "cell_type": "markdown",
   "metadata": {},
   "source": [
    "## 5. Cartpole 환경 설계"
   ]
  },
  {
   "cell_type": "code",
   "execution_count": 47,
   "metadata": {
    "ExecuteTime": {
     "end_time": "2024-03-08T05:26:54.544430700Z",
     "start_time": "2024-03-08T05:26:54.523446100Z"
    }
   },
   "outputs": [],
   "source": [
    "class Environment:\n",
    "\n",
    "    def __init__(self):\n",
    "        # self.env = gym.make(ENV)  \n",
    "        self.env = gym.make(ENV, render_mode=\"rgb_array\") \n",
    "        num_states = self.env.observation_space.shape[0] \n",
    "        num_actions = self.env.action_space.n  \n",
    "        self.agent = Agent(num_states, num_actions)  \n",
    "\n",
    "    def run(self):\n",
    "        episode_10_list = np.zeros(10)     # 최근 10 에피소드의 step 수 기록 리스트\n",
    "        complete_episodes = 0      # 성공 에피소드 수\n",
    "        episode_final = False       # 마지막 에피소드인지 확인\n",
    "        frames = []      # 애니메이션 프레임 저장\n",
    "        \n",
    "        for episode in range(NUM_EPISODES):\n",
    "            observation = self.env.reset()    # 환경 리셋\n",
    "\n",
    "            state = observation     # observation 저장\n",
    "            state = state[0]\n",
    "            state = torch.from_numpy(state).type(\n",
    "                torch.FloatTensor)    # 텐서로 변환\n",
    "            state = torch.unsqueeze(state, 0)    # state 텐서 차원 추가\n",
    "\n",
    "            for step in range(MAX_STEPS):  \n",
    "                \n",
    "                if episode_final is True:  \n",
    "                    # frames.append(self.env.render(mode='rgb_array'))\n",
    "                    frames.append(self.env.render())   # 마지막 에피소드면 렌더링\n",
    "                    \n",
    "                action = self.agent.get_action(state, episode)      # agent가 action 선택\n",
    "\n",
    "                \"\"\"\n",
    "                observation_next, _, done, _ = self.env.step(\n",
    "                    action.item())  \n",
    "                \"\"\"\n",
    "                # action 수행 후 결과 저장\n",
    "                step_result = self.env.step(action.item())\n",
    "                observation_next = step_result[0]\n",
    "                reward = step_result[1]\n",
    "                done = step_result[2]\n",
    "                \n",
    "                if done:      # 에피소드 종료\n",
    "                    state_next = None \n",
    "\n",
    "                    episode_10_list = np.hstack(\n",
    "                        (episode_10_list[1:], step + 1))  # 가장 최근 10개 에피소드의 step 기록\n",
    "\n",
    "                    if step < 150:   # step이 100미만\n",
    "                        reward = torch.FloatTensor(\n",
    "                            [-1.0])   # reward -1\n",
    "                        complete_episodes = 0     # 연속 성공 에피소드 초기화\n",
    "                    else:\n",
    "                        reward = torch.FloatTensor([1.0])       # reward +1\n",
    "                        complete_episodes = complete_episodes + 1\n",
    "                        print(complete_episodes)# 연속 성공 에피소드 증가\n",
    "# 연속 성공 에피소드 증가\n",
    "                else:\n",
    "                    reward = torch.FloatTensor([0.0])     # 중간 reward 0 부여\n",
    "                    state_next = observation_next  \n",
    "                    state_next = torch.from_numpy(state_next).type(\n",
    "                        torch.FloatTensor)  \n",
    "                    state_next = torch.unsqueeze(state_next, 0)  \n",
    "\n",
    "                self.agent.memorize(state, action, state_next, reward)   # 메모리에 transition 저장\n",
    "                self.agent.update_q_function()    # 신경망 업데이트\n",
    "\n",
    "                state = state_next\n",
    "\n",
    "                if done:\n",
    "                    print('%d Episode: Finished after %d steps：최근 10 에피소드의 평균 단계 수 = %.1lf' % (\n",
    "                        episode, step + 1, episode_10_list.mean()))\n",
    "                    \n",
    "                    if(episode % 2 == 0):\n",
    "                        self.agent.update_target_q_function()   # 2 에피소드마다 타겟 신경망 업데이트\n",
    "                    break\n",
    "                    \n",
    "                    \n",
    "            if episode_final is True:\n",
    "                display_frames_as_gif(frames)  # 애니메이션 저장, 표시\n",
    "                break\n",
    "\n",
    "            if complete_episodes >= 10:\n",
    "                print('10 에피소드 연속 성공')\n",
    "                episode_final = True  "
   ]
  },
  {
   "cell_type": "markdown",
   "metadata": {},
   "source": [
    "## 6. Cartpole Dueling DQN 학습"
   ]
  },
  {
   "cell_type": "code",
   "execution_count": 48,
   "metadata": {
    "ExecuteTime": {
     "end_time": "2024-03-08T05:30:48.132683200Z",
     "start_time": "2024-03-08T05:26:54.529771700Z"
    }
   },
   "outputs": [
    {
     "name": "stderr",
     "output_type": "stream",
     "text": [
      "C:\\Users\\yejun\\PycharmProjects\\pythonProject\\.venv\\lib\\site-packages\\gym\\envs\\registration.py:555: UserWarning: \u001B[33mWARN: The environment CartPole-v0 is out of date. You should consider upgrading to version `v1`.\u001B[0m\n",
      "  logger.warn(\n",
      "C:\\Users\\yejun\\PycharmProjects\\pythonProject\\.venv\\lib\\site-packages\\gym\\utils\\passive_env_checker.py:233: DeprecationWarning: `np.bool8` is a deprecated alias for `np.bool_`.  (Deprecated NumPy 1.24)\n",
      "  if not isinstance(terminated, (bool, np.bool8)):\n",
      "C:\\Users\\yejun\\AppData\\Local\\Temp\\ipykernel_20680\\1701455972.py:79: UserWarning: indexing with dtype torch.uint8 is now deprecated, please use a dtype torch.bool instead. (Triggered internally at C:\\actions-runner\\_work\\pytorch\\pytorch\\builder\\windows\\pytorch\\aten\\src\\ATen/native/IndexingUtils.h:28.)\n",
      "  a_m[non_final_mask] = self.main_q_network(\n",
      "C:\\Users\\yejun\\AppData\\Local\\Temp\\ipykernel_20680\\1701455972.py:82: UserWarning: indexing with dtype torch.uint8 is now deprecated, please use a dtype torch.bool instead. (Triggered internally at C:\\actions-runner\\_work\\pytorch\\pytorch\\builder\\windows\\pytorch\\aten\\src\\ATen/native/IndexingUtils.h:28.)\n",
      "  a_m_non_final_next_states = a_m[non_final_mask].view(-1, 1)\n",
      "C:\\Users\\yejun\\AppData\\Local\\Temp\\ipykernel_20680\\1701455972.py:85: UserWarning: indexing with dtype torch.uint8 is now deprecated, please use a dtype torch.bool instead. (Triggered internally at C:\\actions-runner\\_work\\pytorch\\pytorch\\builder\\windows\\pytorch\\aten\\src\\ATen/native/IndexingUtils.h:28.)\n",
      "  next_state_values[non_final_mask] = self.target_q_network(\n"
     ]
    },
    {
     "name": "stdout",
     "output_type": "stream",
     "text": [
      "Net(\n",
      "  (fc1): Linear(in_features=4, out_features=32, bias=True)\n",
      "  (fc2): Linear(in_features=32, out_features=32, bias=True)\n",
      "  (fc3_adv): Linear(in_features=32, out_features=2, bias=True)\n",
      "  (fc3_v): Linear(in_features=32, out_features=1, bias=True)\n",
      ")\n",
      "0 Episode: Finished after 25 steps：최근 10 에피소드의 평균 단계 수 = 2.5\n",
      "1 Episode: Finished after 24 steps：최근 10 에피소드의 평균 단계 수 = 4.9\n",
      "2 Episode: Finished after 23 steps：최근 10 에피소드의 평균 단계 수 = 7.2\n",
      "3 Episode: Finished after 25 steps：최근 10 에피소드의 평균 단계 수 = 9.7\n",
      "4 Episode: Finished after 14 steps：최근 10 에피소드의 평균 단계 수 = 11.1\n",
      "5 Episode: Finished after 14 steps：최근 10 에피소드의 평균 단계 수 = 12.5\n",
      "6 Episode: Finished after 10 steps：최근 10 에피소드의 평균 단계 수 = 13.5\n",
      "7 Episode: Finished after 13 steps：최근 10 에피소드의 평균 단계 수 = 14.8\n",
      "8 Episode: Finished after 20 steps：최근 10 에피소드의 평균 단계 수 = 16.8\n",
      "9 Episode: Finished after 27 steps：최근 10 에피소드의 평균 단계 수 = 19.5\n",
      "10 Episode: Finished after 19 steps：최근 10 에피소드의 평균 단계 수 = 18.9\n",
      "11 Episode: Finished after 10 steps：최근 10 에피소드의 평균 단계 수 = 17.5\n",
      "12 Episode: Finished after 26 steps：최근 10 에피소드의 평균 단계 수 = 17.8\n",
      "13 Episode: Finished after 47 steps：최근 10 에피소드의 평균 단계 수 = 20.0\n",
      "14 Episode: Finished after 9 steps：최근 10 에피소드의 평균 단계 수 = 19.5\n",
      "15 Episode: Finished after 8 steps：최근 10 에피소드의 평균 단계 수 = 18.9\n",
      "16 Episode: Finished after 9 steps：최근 10 에피소드의 평균 단계 수 = 18.8\n",
      "17 Episode: Finished after 10 steps：최근 10 에피소드의 평균 단계 수 = 18.5\n",
      "18 Episode: Finished after 56 steps：최근 10 에피소드의 평균 단계 수 = 22.1\n",
      "19 Episode: Finished after 62 steps：최근 10 에피소드의 평균 단계 수 = 25.6\n",
      "20 Episode: Finished after 91 steps：최근 10 에피소드의 평균 단계 수 = 32.8\n",
      "21 Episode: Finished after 45 steps：최근 10 에피소드의 평균 단계 수 = 36.3\n",
      "22 Episode: Finished after 59 steps：최근 10 에피소드의 평균 단계 수 = 39.6\n",
      "23 Episode: Finished after 45 steps：최근 10 에피소드의 평균 단계 수 = 39.4\n",
      "24 Episode: Finished after 40 steps：최근 10 에피소드의 평균 단계 수 = 42.5\n",
      "25 Episode: Finished after 41 steps：최근 10 에피소드의 평균 단계 수 = 45.8\n",
      "26 Episode: Finished after 59 steps：최근 10 에피소드의 평균 단계 수 = 50.8\n",
      "27 Episode: Finished after 32 steps：최근 10 에피소드의 평균 단계 수 = 53.0\n",
      "28 Episode: Finished after 32 steps：최근 10 에피소드의 평균 단계 수 = 50.6\n",
      "29 Episode: Finished after 135 steps：최근 10 에피소드의 평균 단계 수 = 57.9\n",
      "30 Episode: Finished after 29 steps：최근 10 에피소드의 평균 단계 수 = 51.7\n",
      "31 Episode: Finished after 40 steps：최근 10 에피소드의 평균 단계 수 = 51.2\n",
      "32 Episode: Finished after 36 steps：최근 10 에피소드의 평균 단계 수 = 48.9\n",
      "33 Episode: Finished after 51 steps：최근 10 에피소드의 평균 단계 수 = 49.5\n",
      "1\n",
      "34 Episode: Finished after 177 steps：최근 10 에피소드의 평균 단계 수 = 63.2\n",
      "35 Episode: Finished after 38 steps：최근 10 에피소드의 평균 단계 수 = 62.9\n",
      "36 Episode: Finished after 62 steps：최근 10 에피소드의 평균 단계 수 = 63.2\n",
      "1\n",
      "37 Episode: Finished after 185 steps：최근 10 에피소드의 평균 단계 수 = 78.5\n",
      "42 Episode: Finished after 67 steps：최근 10 에피소드의 평균 단계 수 = 82.0\n",
      "44 Episode: Finished after 78 steps：최근 10 에피소드의 평균 단계 수 = 76.3\n",
      "45 Episode: Finished after 115 steps：최근 10 에피소드의 평균 단계 수 = 84.9\n",
      "50 Episode: Finished after 108 steps：최근 10 에피소드의 평균 단계 수 = 91.7\n",
      "51 Episode: Finished after 149 steps：최근 10 에피소드의 평균 단계 수 = 103.0\n",
      "1\n",
      "126 Episode: Finished after 179 steps：최근 10 에피소드의 평균 단계 수 = 115.8\n",
      "2\n",
      "476 Episode: Finished after 200 steps：최근 10 에피소드의 평균 단계 수 = 118.1\n",
      "486 Episode: Finished after 115 steps：최근 10 에피소드의 평균 단계 수 = 125.8\n",
      "492 Episode: Finished after 10 steps：최근 10 에피소드의 평균 단계 수 = 120.6\n"
     ]
    }
   ],
   "source": [
    "cartpole_env = Environment()\n",
    "cartpole_env.run()"
   ]
  },
  {
   "cell_type": "code",
   "execution_count": 48,
   "metadata": {
    "ExecuteTime": {
     "end_time": "2024-03-08T05:30:48.139188Z",
     "start_time": "2024-03-08T05:30:48.136064900Z"
    }
   },
   "outputs": [],
   "source": []
  },
  {
   "cell_type": "code",
   "execution_count": 48,
   "metadata": {
    "ExecuteTime": {
     "end_time": "2024-03-08T05:30:48.149466500Z",
     "start_time": "2024-03-08T05:30:48.139686800Z"
    }
   },
   "outputs": [],
   "source": []
  },
  {
   "cell_type": "code",
   "execution_count": 48,
   "metadata": {
    "ExecuteTime": {
     "end_time": "2024-03-08T05:30:48.158950400Z",
     "start_time": "2024-03-08T05:30:48.147192500Z"
    }
   },
   "outputs": [],
   "source": []
  },
  {
   "cell_type": "code",
   "execution_count": 48,
   "metadata": {
    "ExecuteTime": {
     "end_time": "2024-03-08T05:30:48.182654400Z",
     "start_time": "2024-03-08T05:30:48.153015400Z"
    }
   },
   "outputs": [],
   "source": []
  }
 ],
 "metadata": {
  "kernelspec": {
   "display_name": "Python 3",
   "language": "python",
   "name": "python3"
  },
  "language_info": {
   "codemirror_mode": {
    "name": "ipython",
    "version": 3
   },
   "file_extension": ".py",
   "mimetype": "text/x-python",
   "name": "python",
   "nbconvert_exporter": "python",
   "pygments_lexer": "ipython3",
   "version": "3.5.2"
  }
 },
 "nbformat": 4,
 "nbformat_minor": 2
}
